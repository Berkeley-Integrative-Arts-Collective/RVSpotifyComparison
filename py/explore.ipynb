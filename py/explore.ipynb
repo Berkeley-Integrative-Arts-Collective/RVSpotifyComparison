{
 "cells": [
  {
   "cell_type": "markdown",
   "metadata": {},
   "source": [
    "# Main analysis file for Spotify Comparison"
   ]
  },
  {
   "cell_type": "markdown",
   "metadata": {},
   "source": [
    "## Setup"
   ]
  },
  {
   "cell_type": "code",
   "execution_count": 1,
   "metadata": {},
   "outputs": [],
   "source": [
    "from dotenv import load_dotenv\n",
    "load_dotenv()\n",
    "\n",
    "import spotipy\n",
    "from spotipy.oauth2 import SpotifyClientCredentials\n",
    "import pandas as pd\n",
    "from pprint import pprint\n",
    "from dataclasses import dataclass, field\n",
    "from typing import *\n",
    "from pprint import pprint\n",
    "import jsons\n",
    "\n",
    "import networkx as nx\n",
    "import numpy as np\n",
    "import matplotlib.pyplot as plt\n",
    "%matplotlib inline"
   ]
  },
  {
   "cell_type": "code",
   "execution_count": 2,
   "metadata": {},
   "outputs": [],
   "source": [
    "# set up and parsing of data\n",
    "spotify = spotipy.Spotify(client_credentials_manager=SpotifyClientCredentials())\n",
    "\n",
    "df = pd.read_csv('../resources/bubbleflexe-rv.csv', usecols=[1, 2], names=['bsides', 'tt'])\n",
    "df = df.dropna()\n",
    "df = df.drop(labels=0, axis=0).reset_index(drop=True)\n",
    "for c in df.columns:\n",
    "    df[c] = df[c].apply(lambda x: str(x).split(';'))\n",
    "# unify the responded songs\n",
    "df['unified'] = df['bsides'] + df['tt']\n",
    "\n",
    "df.to_csv('export/responses_frame.csv')"
   ]
  },
  {
   "cell_type": "code",
   "execution_count": 3,
   "metadata": {},
   "outputs": [],
   "source": [
    "# Utilities\n",
    "def dictionaryFilter(d: dict, func) -> dict:\n",
    "    '''Filter a dictionary d by items that result in true for func(k, v)'''\n",
    "    return {k: v for k, v in d.items() if func(k, v)}"
   ]
  },
  {
   "cell_type": "code",
   "execution_count": 4,
   "metadata": {},
   "outputs": [],
   "source": [
    "unique_bsides = set()\n",
    "for i in df['bsides']:\n",
    "    unique_bsides.update(i)\n",
    "\n",
    "unique_tt = set()\n",
    "for i in df['tt']:\n",
    "    unique_tt.update(i)\n",
    "\n",
    "unique_songs = unique_bsides.union(unique_tt)"
   ]
  },
  {
   "cell_type": "markdown",
   "metadata": {},
   "source": [
    "## Data Introspection"
   ]
  },
  {
   "cell_type": "code",
   "execution_count": 5,
   "metadata": {},
   "outputs": [
    {
     "name": "stdout",
     "output_type": "stream",
     "text": [
      "0\n"
     ]
    }
   ],
   "source": [
    "# N=5,700 after cleaning non-responses (nans)\n",
    "# note that there is no response where they gave favorite b-sides and no tt's, vice versa -- all nans in dataframe can be cleaned naively\n",
    "# Verify no nans\n",
    "count = 0\n",
    "for x in df['unified']:\n",
    "    if 'nan' in x:\n",
    "        print(x)\n",
    "        count+=1\n",
    "print(count)"
   ]
  },
  {
   "cell_type": "code",
   "execution_count": 6,
   "metadata": {},
   "outputs": [],
   "source": [
    "# TODO report stats on responses (e.g. dist of responses of b-sides, tt's, etc)"
   ]
  },
  {
   "cell_type": "markdown",
   "metadata": {},
   "source": [
    "## Questions\n",
    "1. For a given song, what is the frequency list of all other songs to it? -> Done\n",
    "2. How to use the size of each individual response? -> **Not yet added**\n",
    "3. What about normalizing for song popularity -> Using percents, Done"
   ]
  },
  {
   "cell_type": "code",
   "execution_count": 37,
   "metadata": {},
   "outputs": [],
   "source": [
    "class Song:\n",
    "    # todo make init based on name and artist make a spotify req to populate the object's name and artist\n",
    "    def __init__(self, name: str, artist: str = 'Red Velvet', id: str = None, spotify_af: dict = None, tags: list = None):\n",
    "        self.name = name\n",
    "        self.artist = artist\n",
    "        self.id = id or self.__get_track_id()\n",
    "        self.spotify_af = spotify_af or self.__get_audio_analysis()\n",
    "        self.tags = tags\n",
    "    \n",
    "    def __get_track_id(self):\n",
    "        r = spotify.search(q=f'{self.name} artist:{self.artist}', type='track')\n",
    "        return r['tracks']['items'][0]['id']\n",
    "    \n",
    "    def __get_audio_analysis(self):\n",
    "        ft = spotify.audio_features(self.id)[0]\n",
    "        delkeys = ['type', 'id', 'uri', 'track_href', 'analysis_url']\n",
    "        [ft.pop(x) for x in delkeys]\n",
    "        return ft\n",
    "\n",
    "    def __repr__(self):\n",
    "        # TODO see if this is safe\n",
    "        return f'{self.name} - {self.artist} - {str(self.tags)}'\n",
    "\n",
    "    def __str__(self):\n",
    "        return f'{self.name} - {self.artist} - [{str(self.tags)}]'\n",
    "\n",
    "    def __key(self):\n",
    "        return (self.name) # TODO THIS IS ONLY DUE TO WORKING WITH RV CONTENT.\n",
    "        # TODO find out a better way to make SongCollection like a dictionary but with regex matching for song name; make easier to extract from responses\n",
    "\n",
    "    def __hash__(self):\n",
    "        # note that we are heavily breaking convention here\n",
    "        return hash(self.__key())\n",
    "\n",
    "    def __eq__(self, o):\n",
    "        if isinstance(o, Song):\n",
    "            # if self.name == o.name and self.artist == o.artist:\n",
    "            #     return True\n",
    "            return self.__key() == o.__key()\n",
    "        elif isinstance(o, str):\n",
    "            # this is more useful for when there are multiple artists. we are only working with RV songs, so it's looser\n",
    "            # if o == str(self)[:str(self).rfind('-')-1]:\n",
    "            #     return True\n",
    "            if o.lower() == self.name.lower():\n",
    "                return True\n",
    "        return False\n",
    "\n",
    "@dataclass\n",
    "class SongCollection:\n",
    "    songs: List[Song]\n",
    "    responses: pd.DataFrame\n",
    "    count_adj_mat: pd.DataFrame\n",
    "    count_list: pd.Series = field(init=False)\n",
    "\n",
    "    def __post_init__(self):\n",
    "        self.count_list = self.__get_count_list()\n",
    "            \n",
    "    def get(self, match) -> Song:\n",
    "        '''Return matching Song object for query'''\n",
    "        # TODO add this to the run attr of the class for methods that have a parameter songmatch. Advanced!\n",
    "        if isinstance(match, Song):\n",
    "            if match not in self.songs:\n",
    "                raise Exception('Song object provided is not in the SongCollection\\'s songs')\n",
    "            return match\n",
    "        return self.__get_handler(self.__get_by_name, match)\n",
    "\n",
    "    def __get_handler(self, method, match):\n",
    "        '''Wrapper method for handling output of searching by method with query match'''\n",
    "        r = method(match)\n",
    "        if len(r) > 1:\n",
    "            raise Exception('too many songs matched')\n",
    "        elif len(r) == 0:\n",
    "            raise Exception('no matching Song found')\n",
    "        return r[0]\n",
    "\n",
    "    def __get_by_name(self, name):\n",
    "        name = name.lower()\n",
    "        return [s for s in self.songs if s.name.lower() == name]\n",
    "        # r = list(filter(lambda s: s.name.lower() == name, self.songs))\n",
    "\n",
    "    def __get_by_eq(self, obj):\n",
    "        return [s for s in self.songs if s == obj]\n",
    "\n",
    "\n",
    "    def __get_count_list(self) -> pd.Series:\n",
    "        '''Return sorted dict representing # of times a Song was mentioned in responses for all Songs in the collection'''\n",
    "        # this is equivalent to the diagonal in the adj matrix\n",
    "        return pd.Series(np.diag(self.count_adj_mat), index=songs).sort_values()\n",
    "        \n",
    "    def get_song_count_list(self, songmatch) -> pd.Series:\n",
    "        '''Return sorted dict of the count of other songs in the responses for a given Song (det. by songmatch)'''\n",
    "        # this is requivallent to a row or column\n",
    "        song = self.get(songmatch)\n",
    "        return self.count_adj_mat[song].sort_values()\n",
    "\n",
    "    def get_song_inbound_percent_list(self, songmatch, dig=2) -> pd.Series:\n",
    "        '''\n",
    "        Return the inbound percents for a song. \n",
    "        i.e. for each Song s in a given Song t's count list, divide s's value in t's count list by the count of s in the responses\n",
    "        This gives us a way to see the percent of s's listeners that listen to t.\n",
    "        '''\n",
    "        song = self.get(songmatch)\n",
    "        return (self.count_adj_mat[song]/self.count_list).round(decimals=dig).sort_values() # series division\n",
    "\n",
    "    def get_song_outbound_percent_list(self, songmatch, dig=2) -> pd.Series:\n",
    "        '''\n",
    "        Return the outbound percents for a song\n",
    "        i.e. for each Song s in a given Song t's count list, divide s's value in t's count list by the count of t in the responses\n",
    "        This gives us a way to see the percent of t's listeners that listen to s.\n",
    "        '''\n",
    "        song = self.get(songmatch)\n",
    "        return (self.count_adj_mat[song]/self.count_list[song]).round(decimals=dig).sort_values()\n",
    "        \n",
    "    \n",
    "    \n",
    "\n"
   ]
  },
  {
   "cell_type": "code",
   "execution_count": 47,
   "metadata": {},
   "outputs": [],
   "source": [
    "songs = [Song(name) for name in unique_songs]\n",
    "with open('export/songs', 'w') as f:\n",
    "    f.write(jsons.dumps(songs))"
   ]
  },
  {
   "cell_type": "code",
   "execution_count": 14,
   "metadata": {},
   "outputs": [],
   "source": [
    "with open('export/songs', 'r') as f:\n",
    "    songs = jsons.loads(f.read(), List[Song])"
   ]
  },
  {
   "cell_type": "code",
   "execution_count": 110,
   "metadata": {},
   "outputs": [],
   "source": [
    "sdf = pd.DataFrame(0, index=songs, columns=songs)\n",
    "def handleResponse(resp: List):\n",
    "    '''Recursively handle a response and add it to the song dataframe'''\n",
    "    if not len(resp):\n",
    "        return\n",
    "    last_song: str = resp.pop()\n",
    "    sdf.at[last_song, last_song] += 1\n",
    "    for song in resp:\n",
    "        sdf.at[last_song, song] += 1\n",
    "        sdf.at[song, last_song] += 1\n",
    "    handleResponse(resp)\n",
    "\n",
    "for r in df['unified']:\n",
    "    handleResponse(r.copy())\n",
    "\n",
    "sdf.to_csv('export/song_adj_mat.csv')"
   ]
  },
  {
   "cell_type": "code",
   "execution_count": 15,
   "metadata": {},
   "outputs": [],
   "source": [
    "sdf = pd.read_csv('export/song_adj_mat.csv', index_col=0, header=0).set_axis(songs, axis=0).set_axis(songs, axis=1)"
   ]
  },
  {
   "cell_type": "code",
   "execution_count": 30,
   "metadata": {},
   "outputs": [
    {
     "data": {
      "text/plain": [
       "Milkshake - Red Velvet - [None]                   1606\n",
       "Cool World - Red Velvet - [None]                   472\n",
       "'Cause It's You - Red Velvet - [None]              442\n",
       "Lady's Room - Red Velvet - [None]                  373\n",
       "Eyes Locked Hands Locked - Red Velvet - [None]     911\n",
       "                                                  ... \n",
       "Look - Red Velvet - [None]                         979\n",
       "Little Little - Red Velvet - [None]                724\n",
       "Somethin Kinda Crazy - Red Velvet - [None]         532\n",
       "Moonlight Melody - Red Velvet - [None]             674\n",
       "RBB - Red Velvet - [None]                         1056\n",
       "Name: Milkshake - Red Velvet - [None], Length: 92, dtype: int64"
      ]
     },
     "execution_count": 30,
     "metadata": {},
     "output_type": "execute_result"
    }
   ],
   "source": [
    "sdf['Milkshake']"
   ]
  },
  {
   "cell_type": "code",
   "execution_count": 31,
   "metadata": {},
   "outputs": [],
   "source": [
    "col = SongCollection(songs, df, sdf)"
   ]
  },
  {
   "cell_type": "code",
   "execution_count": 36,
   "metadata": {},
   "outputs": [
    {
     "data": {
      "text/plain": [
       "First Time - Red Velvet - [None]           0.11\n",
       "Rose Scent Breeze - Red Velvet - [None]    0.12\n",
       "Stupid Cupid - Red Velvet - [None]         0.12\n",
       "My Dear - Red Velvet - [None]              0.12\n",
       "Lady's Room - Red Velvet - [None]          0.13\n",
       "                                           ... \n",
       "In & Out - Red Velvet - [None]             0.65\n",
       "Kingdom Come - Red Velvet - [None]         0.65\n",
       "Peek-A-Boo - Red Velvet - [None]           0.66\n",
       "Bad Boy - Red Velvet - [None]              0.79\n",
       "Psycho - Red Velvet - [None]               1.00\n",
       "Name: Psycho - Red Velvet - [None], Length: 92, dtype: float64"
      ]
     },
     "execution_count": 36,
     "metadata": {},
     "output_type": "execute_result"
    }
   ],
   "source": [
    "col.get_song_outbound_percent_list('Psycho')"
   ]
  },
  {
   "cell_type": "code",
   "execution_count": 33,
   "metadata": {},
   "outputs": [],
   "source": [
    "# de/serialization doesn't work on col\n",
    "\n",
    "# with open('export/songcol.json', 'w') as f:\n",
    "#     f.write(jsons.dumps(col))\n",
    "\n",
    "# with open('export/songcol.json', 'r') as f:\n",
    "#     col = jsons.loads(f.read(), SongCollection)"
   ]
  },
  {
   "cell_type": "code",
   "execution_count": null,
   "metadata": {},
   "outputs": [],
   "source": []
  },
  {
   "cell_type": "markdown",
   "metadata": {},
   "source": [
    "## Graphing, Network Analysis"
   ]
  },
  {
   "cell_type": "markdown",
   "metadata": {},
   "source": [
    "### Questions on dataset\n",
    "* Which songs have high mutual connectivity?"
   ]
  },
  {
   "cell_type": "code",
   "execution_count": null,
   "metadata": {},
   "outputs": [],
   "source": [
    "class CollectionStatistics:\n",
    "    def __init__(self, col: SongCollection):\n",
    "        self.col = col\n",
    "    \n",
    "    def get_mutual_pairs(self, cutoff=0.5, attr=None, attr_filter=None):\n",
    "        '''Return all edges that satisfy the '''\n"
   ]
  }
 ],
 "metadata": {
  "interpreter": {
   "hash": "01667ff299c348b112dbc2df39ce92b4c0671ba931181a61d0cfac5f7a112035"
  },
  "kernelspec": {
   "display_name": "Python 3.9.7 64-bit ('.venv': venv)",
   "name": "python3"
  },
  "language_info": {
   "codemirror_mode": {
    "name": "ipython",
    "version": 3
   },
   "file_extension": ".py",
   "mimetype": "text/x-python",
   "name": "python",
   "nbconvert_exporter": "python",
   "pygments_lexer": "ipython3",
   "version": "3.9.7"
  },
  "orig_nbformat": 4
 },
 "nbformat": 4,
 "nbformat_minor": 2
}
