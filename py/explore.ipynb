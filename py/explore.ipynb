{
 "cells": [
  {
   "cell_type": "code",
   "execution_count": 41,
   "metadata": {},
   "outputs": [],
   "source": [
    "from dotenv import load_dotenv\n",
    "load_dotenv()\n",
    "\n",
    "import spotipy\n",
    "from spotipy.oauth2 import SpotifyClientCredentials\n",
    "import pandas as pd\n",
    "from pprint import pprint\n",
    "from dataclasses import dataclass\n",
    "from typing import *\n",
    "from pprint import pprint\n",
    "import jsons\n",
    "\n",
    "import networkx as nx\n",
    "import numpy as np\n",
    "import matplotlib.pyplot as plt\n",
    "%matplotlib inline"
   ]
  },
  {
   "cell_type": "code",
   "execution_count": 42,
   "metadata": {},
   "outputs": [],
   "source": [
    "# set up and parsing of data\n",
    "spotify = spotipy.Spotify(client_credentials_manager=SpotifyClientCredentials())\n",
    "\n",
    "df = pd.read_csv('../resources/bubbleflexe-rv.csv', usecols=[1, 2], names=['bsides', 'tt'])\n",
    "df = df.drop(labels=0, axis=0).reset_index(drop=True)\n",
    "for c in df.columns:\n",
    "    df[c] = df[c].apply(lambda x: str(x).split(';'))\n",
    "# unify the responded songs\n",
    "df['unified'] = df['bsides'] + df['tt']"
   ]
  },
  {
   "cell_type": "code",
   "execution_count": 43,
   "metadata": {},
   "outputs": [],
   "source": [
    "# Utilities\n",
    "def dictionaryFilter(d: dict, func) -> dict:\n",
    "    '''Filter a dictionary d by items that result in true for func(k, v)'''\n",
    "    return {k: v for k, v in d.items() if func(k, v)}"
   ]
  },
  {
   "cell_type": "code",
   "execution_count": 44,
   "metadata": {},
   "outputs": [],
   "source": [
    "unique_bsides = set()\n",
    "for i in df['bsides']:\n",
    "    unique_bsides.update(i)\n",
    "\n",
    "unique_tt = set()\n",
    "for i in df['tt']:\n",
    "    unique_tt.update(i)\n",
    "\n",
    "unique_songs = unique_bsides.union(unique_tt)\n",
    "unique_songs.remove('nan')"
   ]
  },
  {
   "cell_type": "markdown",
   "metadata": {},
   "source": [
    "## Data Introspection"
   ]
  },
  {
   "cell_type": "code",
   "execution_count": 45,
   "metadata": {},
   "outputs": [],
   "source": [
    "# TODO distribution of size of responses."
   ]
  },
  {
   "cell_type": "markdown",
   "metadata": {},
   "source": [
    "## Questions\n",
    "1. For a given song, what is the frequency list of all other songs to it? -> Done\n",
    "2. How to use the size of each individual response? -> **Not yet added**\n",
    "3. What about normalizing for song popularity -> Using percents, Done"
   ]
  },
  {
   "cell_type": "code",
   "execution_count": 72,
   "metadata": {},
   "outputs": [],
   "source": [
    "@dataclass\n",
    "class Song:\n",
    "    # todo make init based on name and artist make a spotify req to populate the object's name and artist\n",
    "    def __init__(self, name: str, artist: str = 'Red Velvet', id: str = None, spotify_af: dict = None, tags: list = None):\n",
    "        self.name = name\n",
    "        self.artist = artist\n",
    "        self.id = id or self.__get_track_id()\n",
    "        self.spotify_af = spotify_af or self.__get_audio_analysis()\n",
    "        self.tags = tags\n",
    "    \n",
    "    def __get_track_id(self):\n",
    "        r = spotify.search(q=f'{self.name} artist:{self.artist}', type='track')\n",
    "        return r['tracks']['items'][0]['id']\n",
    "    \n",
    "    def __get_audio_analysis(self):\n",
    "        ft = spotify.audio_features(self.id)[0]\n",
    "        delkeys = ['type', 'id', 'uri', 'track_href', 'analysis_url']\n",
    "        [ft.pop(x) for x in delkeys]\n",
    "        return ft\n",
    "\n",
    "    # def __repr__(self):\n",
    "    #     # TODO see if this is safe\n",
    "    #     return f'{self.name} - {self.artist} - {str(self.tags)}'\n",
    "\n",
    "    def __str__(self):\n",
    "        return f'{self.name} - {self.artist} - [{str(self.tags)}]'\n",
    "\n",
    "    # def __key(self):\n",
    "    #     return (self.name) # TODO THIS IS ONLY DUE TO WORKING WITH RV CONTENT.\n",
    "    #     # TODO find out a better way to make SongCollection like a dictionary but with regex matching for song name; make easier to extract from responses\n",
    "\n",
    "    # def __hash__(self):\n",
    "    #     # note that we are heavily breaking convention here\n",
    "    #     return hash(self.__key())\n",
    "\n",
    "    # def __eq__(self, o):\n",
    "    #     if isinstance(o, Song):\n",
    "    #         # if self.name == o.name and self.artist == o.artist:\n",
    "    #         #     return True\n",
    "    #         return self.__key() == o.__key()\n",
    "    #     elif isinstance(o, str):\n",
    "    #         # this is more useful for when there are multiple artists. we are only working with RV songs, so it's looser\n",
    "    #         # if o == str(self)[:str(self).rfind('-')-1]:\n",
    "    #         #     return True\n",
    "    #         if o.lower() == self.name.lower():\n",
    "    #             return True\n",
    "    #     return False\n",
    "\n",
    "# TODO transition into adjacency matrix\n",
    "@dataclass\n",
    "class SongCollection:\n",
    "    def __init__(self, songs: List[Song], responses: pd.DataFrame, dig=2):\n",
    "        self.songs = songs \n",
    "        self.responses = responses\n",
    "        self.count_list = self.__get_count_list()\n",
    "        self.song_count_list = {s: self.__get_song_count_list(s) for s in self.songs}\n",
    "        self.percents_cache = self.__get_cache_dict(dig)\n",
    "        \n",
    "    def __get_cache_dict(self, dig):\n",
    "        d = {}\n",
    "        for s in self.songs:\n",
    "            d[s] = {'inbound': self.__get_song_inbound_percent_list(s, dig), \n",
    "                    'outbound': self.__get_song_outbound_percent_list(s, dig)}\n",
    "        return d\n",
    "            \n",
    "    def get(self, match) -> Song:\n",
    "        return self.__get_handler(self.__get_by_name, match)\n",
    "\n",
    "    def __get_handler(self, method, match):\n",
    "        r = method(match)\n",
    "        if len(r) > 1:\n",
    "            raise Exception('too many songs matched')\n",
    "        elif len(r) == 0:\n",
    "            raise Exception('no matching Song found')\n",
    "        return r[0]\n",
    "\n",
    "    def __get_by_name(self, name):\n",
    "        name = name.lower()\n",
    "        r = [s for s in self.songs if s.name.lower() == name]\n",
    "        # r = list(filter(lambda s: s.name.lower() == name, self.songs))\n",
    "        return r\n",
    "\n",
    "    def __get_by_eq(self, obj):\n",
    "        r = list(filter(lambda s: s == obj, self.songs))\n",
    "        return r\n",
    "\n",
    "\n",
    "    def __get_count_list(self) -> dict[Song, int]:\n",
    "        '''Return sorted dict representing # of times a Song was mentioned in responses for all Songs in the collection'''\n",
    "        flist = {}\n",
    "        for s in self.songs:\n",
    "            flist[s] = 0\n",
    "        for u in self.responses['unified']:\n",
    "            for s in u:\n",
    "                if s == 'nan' or s not in self.songs:\n",
    "                    continue\n",
    "                flist[s] += 1\n",
    "        return {k: v for k, v in sorted(flist.items(), key=lambda item: item[1])}\n",
    "\n",
    "    def __get_song_count_list(self, songmatch) -> dict[Song, int]:\n",
    "        '''Return sorted dict of the count of other songs in the responses for a given Song (det. by songmatch)'''\n",
    "        song = self.get(songmatch)\n",
    "\n",
    "        flist = {}\n",
    "        for s in self.songs:\n",
    "            flist[s] = 0\n",
    "        mask = self.responses['unified'].apply(lambda l: song.name in l)\n",
    "        entries = self.responses[mask]['unified']\n",
    "        for u in entries:\n",
    "            for s in u:\n",
    "                if s == 'nan' or s not in self.songs:\n",
    "                    continue\n",
    "                flist[s] += 1\n",
    "\n",
    "        return {k: v for k, v in sorted(flist.items(), key=lambda item: item[1])}\n",
    "\n",
    "    def __get_song_inbound_percent_list(self, songmatch, dig=2) -> dict[Song, float]:\n",
    "        '''\n",
    "        Return the inbound percents for a song. \n",
    "        i.e. for each Song s in a given Song t's count list, divide s's value in t's count list by the count of s in the responses\n",
    "        This gives us a way to see the percent of s's listeners that listen to t.\n",
    "        '''\n",
    "        song = self.get(songmatch)\n",
    "        flist = self.song_count_list[song]\n",
    "        root_flist = self.count_list\n",
    "        for s in flist:\n",
    "            flist[s] /= root_flist[s]\n",
    "            flist[s] = round(flist[s], dig)\n",
    "        return {k: v for k, v in sorted(flist.items(), key=lambda item: item[1])}\n",
    "\n",
    "    def __get_song_outbound_percent_list(self, songmatch, dig=2) -> dict[Song, float]:\n",
    "        '''\n",
    "        Return the outbound percents for a song\n",
    "        i.e. for each Song s in a given Song t's count list, divide s's value in t's count list by the count of t in the responses\n",
    "        This gives us a way to see the percent of t's listeners that listen to s.\n",
    "        '''\n",
    "        song = self.get(songmatch)\n",
    "        flist = self.song_count_list[song]\n",
    "        root_listens = self.count_list[song]\n",
    "        for s in flist:\n",
    "            flist[s] /= root_listens\n",
    "            flist[s] = round(flist[s], dig)\n",
    "        return {k: v for k, v in sorted(flist.items(), key=lambda item: item[1])}\n",
    "        \n",
    "    \n",
    "    \n",
    "\n"
   ]
  },
  {
   "cell_type": "code",
   "execution_count": 47,
   "metadata": {},
   "outputs": [],
   "source": [
    "songs = [Song(name) for name in unique_songs]\n",
    "with open('songs', 'w') as f:\n",
    "    f.write(jsons.dumps(songs))"
   ]
  },
  {
   "cell_type": "code",
   "execution_count": 35,
   "metadata": {},
   "outputs": [],
   "source": [
    "# with open('songs', 'r') as f:\n",
    "#     songs = jsons.loads(f.read(), List[Song])"
   ]
  },
  {
   "cell_type": "code",
   "execution_count": 48,
   "metadata": {},
   "outputs": [],
   "source": [
    "col = SongCollection(responses=df, songs=songs)\n"
   ]
  },
  {
   "cell_type": "code",
   "execution_count": 61,
   "metadata": {},
   "outputs": [
    {
     "name": "stdout",
     "output_type": "stream",
     "text": [
      "<class '__main__.Song'>\n"
     ]
    }
   ],
   "source": [
    "for x in col.count_list.keys():\n",
    "    print(type(x))\n",
    "    break"
   ]
  },
  {
   "cell_type": "code",
   "execution_count": 68,
   "metadata": {},
   "outputs": [],
   "source": [
    "with open('songcol.json', 'w') as f:\n",
    "    f.write(jsons.dumps(col))"
   ]
  },
  {
   "cell_type": "code",
   "execution_count": null,
   "metadata": {},
   "outputs": [],
   "source": [
    "with open('songcol.json', 'r') as f:\n",
    "    col_ex = jsons.loads(f.read(), SongCollection)"
   ]
  },
  {
   "cell_type": "markdown",
   "metadata": {},
   "source": [
    "## Update\n",
    "Now, we have inbound data (x% of Bad Boy listeners listen to Aitai-tai). What about reverse? (Aitai-tai listeners listen to _).\n",
    "Note that it's not necessary that there is a 1:1 relationship (Song A might have high chance to listen to song B, but there are a certain amount of song B listeners that don't like song A)."
   ]
  },
  {
   "cell_type": "code",
   "execution_count": 13,
   "metadata": {},
   "outputs": [],
   "source": [
    "# this gives us what the update is talking about.\n",
    "li = col.get_song_inbound_percent_list('Aitai-tai')"
   ]
  },
  {
   "cell_type": "code",
   "execution_count": 14,
   "metadata": {},
   "outputs": [
    {
     "data": {
      "text/plain": [
       "{Psycho - Red Velvet - None: 0.2,\n",
       " Bad Boy - Red Velvet - None: 0.21,\n",
       " Peek-A-Boo - Red Velvet - None: 0.23,\n",
       " Monster - Red Velvet - None: 0.24,\n",
       " Sunny Side Up! - Red Velvet - None: 0.24,\n",
       " Kingdom Come - Red Velvet - None: 0.24,\n",
       " Red Flavor - Red Velvet - None: 0.25,\n",
       " Russian Roulette - Red Velvet - None: 0.25,\n",
       " In & Out - Red Velvet - None: 0.25,\n",
       " Power Up - Red Velvet - None: 0.27,\n",
       " Zimzalabim - Red Velvet - None: 0.27,\n",
       " Dumb Dumb - Red Velvet - None: 0.27,\n",
       " Naughty - Red Velvet - None: 0.27,\n",
       " You Better Know - Red Velvet - None: 0.27,\n",
       " Automatic - Red Velvet - None: 0.28,\n",
       " One of These Nights - Red Velvet - None: 0.28,\n",
       " Umpah Umpah - Red Velvet - None: 0.28,\n",
       " Ice Cream Cake - Red Velvet - None: 0.28,\n",
       " RBB - Red Velvet - None: 0.28,\n",
       " Happiness - Red Velvet - None: 0.29,\n",
       " Be Natural - Red Velvet - None: 0.3,\n",
       " Remember Forever - Red Velvet - None: 0.3,\n",
       " Eyes Locked Hands Locked - Red Velvet - None: 0.3,\n",
       " La Rouge - Red Velvet - None: 0.3,\n",
       " I Just - Red Velvet - None: 0.3,\n",
       " Love Is The Way - Red Velvet - None: 0.31,\n",
       " So Good - Red Velvet - None: 0.31,\n",
       " Blue Lemonade - Red Velvet - None: 0.31,\n",
       " Milkshake - Red Velvet - None: 0.32,\n",
       " Rookie - Red Velvet - None: 0.32,\n",
       " Candy - Red Velvet - None: 0.32,\n",
       " LP - Red Velvet - None: 0.32,\n",
       " Sassy Me - Red Velvet - None: 0.32,\n",
       " Look - Red Velvet - None: 0.32,\n",
       " Uncover - Red Velvet - None: 0.33,\n",
       " Light Me Up - Red Velvet - None: 0.33,\n",
       " Feel Good - Red Velvet - None: 0.33,\n",
       " Oh Boy - Red Velvet - None: 0.33,\n",
       " Butterflies - Red Velvet - None: 0.33,\n",
       " Moonlight Melody - Red Velvet - None: 0.34,\n",
       " Hit That Drum - Red Velvet - None: 0.34,\n",
       " Ladies Night - Red Velvet - None: 0.34,\n",
       " Talk to Me - Red Velvet - None: 0.34,\n",
       " Body Talk - Red Velvet - None: 0.34,\n",
       " Little Little - Red Velvet - None: 0.35,\n",
       " Zoo - Red Velvet - None: 0.35,\n",
       " Cookie Jar - Red Velvet - None: 0.35,\n",
       " Time to Love - Red Velvet - None: 0.36,\n",
       " Cool Hot Sweet Love - Red Velvet - None: 0.36,\n",
       " Carpool - Red Velvet - None: 0.37,\n",
       " Sappy - Red Velvet - None: 0.37,\n",
       " Jelly - Red Velvet - None: 0.37,\n",
       " Huff N Puff - Red Velvet - None: 0.38,\n",
       " Somethin Kinda Crazy - Red Velvet - None: 0.38,\n",
       " Red Dress - Red Velvet - None: 0.38,\n",
       " Day 1 - Red Velvet - None: 0.38,\n",
       " Lucky Girl - Red Velvet - None: 0.38,\n",
       " Perfect 10 - Red Velvet - None: 0.38,\n",
       " Diamond - Red Velvet - None: 0.39,\n",
       " My Second Date - Red Velvet - None: 0.39,\n",
       " Mosquito - Red Velvet - None: 0.4,\n",
       " Jumpin' - Red Velvet - None: 0.4,\n",
       " About Love - Red Velvet - None: 0.41,\n",
       " Bing Bing - Red Velvet - None: 0.41,\n",
       " Take It Slow - Red Velvet - None: 0.42,\n",
       " Parade - Red Velvet - None: 0.42,\n",
       " With You - Red Velvet - None: 0.42,\n",
       " Hear The Sea - Red Velvet - None: 0.42,\n",
       " Last Love - Red Velvet - None: 0.43,\n",
       " Fool - Red Velvet - None: 0.43,\n",
       " Mr. E - Red Velvet - None: 0.43,\n",
       " Time Slip - Red Velvet - None: 0.44,\n",
       " Taste - Red Velvet - None: 0.44,\n",
       " Mojito - Red Velvet - None: 0.44,\n",
       " Happily Ever After - Red Velvet - None: 0.44,\n",
       " Cool World - Red Velvet - None: 0.45,\n",
       " Attaboy - Red Velvet - None: 0.45,\n",
       " Swimming Pool - Red Velvet - None: 0.45,\n",
       " Sayonara - Red Velvet - None: 0.45,\n",
       " Stupid Cupid - Red Velvet - None: 0.46,\n",
       " Bad Dracula - Red Velvet - None: 0.46,\n",
       " Campfire - Red Velvet - None: 0.47,\n",
       " Don't U Wait No More - Red Velvet - None: 0.47,\n",
       " Rose Scent Breeze - Red Velvet - None: 0.49,\n",
       " Sunny Afternoon - Red Velvet - None: 0.49,\n",
       " First Time - Red Velvet - None: 0.5,\n",
       " Lady's Room - Red Velvet - None: 0.5,\n",
       " 'Cause It's You - Red Velvet - None: 0.5,\n",
       " Some Love - Red Velvet - None: 0.51,\n",
       " My Dear - Red Velvet - None: 0.52,\n",
       " All Right - Red Velvet - None: 0.54,\n",
       " Aitai-tai - Red Velvet - None: 1.0}"
      ]
     },
     "execution_count": 14,
     "metadata": {},
     "output_type": "execute_result"
    }
   ],
   "source": [
    "# % of Aitai-tai listeners that listen to Bad Boy\n",
    "# li['Bad Boy']\n",
    "li"
   ]
  },
  {
   "cell_type": "markdown",
   "metadata": {},
   "source": []
  },
  {
   "cell_type": "markdown",
   "metadata": {},
   "source": [
    "## Graphing, Network Analysis"
   ]
  },
  {
   "cell_type": "markdown",
   "metadata": {},
   "source": [
    "### Questions on dataset\n",
    "* Which songs have high mutual connectivity?"
   ]
  },
  {
   "cell_type": "code",
   "execution_count": null,
   "metadata": {},
   "outputs": [],
   "source": [
    "class CollectionStatistics:\n",
    "    def __init__(self, col: SongCollection):\n",
    "        self.col = col\n",
    "    \n",
    "    def get_mutual_pairs(self, cutoff=0.5, attr=None, attr_filter=None):\n",
    "        '''Return all edges that satisfy the '''\n"
   ]
  }
 ],
 "metadata": {
  "interpreter": {
   "hash": "01667ff299c348b112dbc2df39ce92b4c0671ba931181a61d0cfac5f7a112035"
  },
  "kernelspec": {
   "display_name": "Python 3.9.7 64-bit ('.venv': venv)",
   "name": "python3"
  },
  "language_info": {
   "codemirror_mode": {
    "name": "ipython",
    "version": 3
   },
   "file_extension": ".py",
   "mimetype": "text/x-python",
   "name": "python",
   "nbconvert_exporter": "python",
   "pygments_lexer": "ipython3",
   "version": "3.9.7"
  },
  "orig_nbformat": 4
 },
 "nbformat": 4,
 "nbformat_minor": 2
}
